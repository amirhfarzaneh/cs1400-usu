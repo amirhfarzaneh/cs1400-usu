{
 "cells": [
  {
   "cell_type": "markdown",
   "metadata": {},
   "source": [
    "<img src=\"1.png\">\n",
    "<img src=\"2.png\">\n",
    "<img src=\"3.png\">"
   ]
  },
  {
   "cell_type": "code",
   "execution_count": null,
   "metadata": {},
   "outputs": [],
   "source": [
    "# create and initialize the list\n",
    "# create a list of 99 Boolean elements with value False\n",
    "\n",
    "# while something:\n",
    "    # read numbers as a string from the console\n",
    "\n",
    "    # extract items from the string\n",
    "\n",
    "    # convert items (strings) to numbers(integers)\n",
    "\n",
    "    # Manipulate your Boolean list by checking each number\n",
    "    # check when the numbers end (if it's 0 stop checking!)\n",
    "\n",
    "# for some_range:\n",
    "    # Now check whether all numbers (1 to 99) are covered\n",
    "    # if you find one number that is not covered (True in the list) BREAK!\n",
    "\n",
    "# print accordingly\n"
   ]
  }
 ],
 "metadata": {
  "kernelspec": {
   "display_name": "Python 3",
   "language": "python",
   "name": "python3"
  },
  "language_info": {
   "codemirror_mode": {
    "name": "ipython",
    "version": 3
   },
   "file_extension": ".py",
   "mimetype": "text/x-python",
   "name": "python",
   "nbconvert_exporter": "python",
   "pygments_lexer": "ipython3",
   "version": "3.6.3"
  }
 },
 "nbformat": 4,
 "nbformat_minor": 2
}
