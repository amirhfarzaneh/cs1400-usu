{
 "cells": [
  {
   "cell_type": "markdown",
   "metadata": {},
   "source": [
    "<img src=\"1.png\">\n",
    "<img src=\"2.png\">\n",
    "<img src=\"3.png\">\n",
    "<img src=\"4.png\">"
   ]
  },
  {
   "cell_type": "code",
   "execution_count": null,
   "metadata": {},
   "outputs": [],
   "source": [
    "# implement this first, consider you're given a cell as grid[i][j]\n",
    "# using the second approach check if it's a valid number\n",
    "# you have to do this for all the cells, that's where you call\n",
    "# isValidAt several times in the isValid function next\n",
    "def isValidAt(i, j, grid): \n",
    "    # Check whether grid[i][j] is valid in i-th row\n",
    "    # [hint: one loop. Which row the number is in?]\n",
    "    # return false if conditions are not met\n",
    "    \n",
    "    # check whether grid[i][j] is valid in j-th column\n",
    "    # [hint: one loop. Which column the number is in?]\n",
    "    # return false if conditions are not met\n",
    "    \n",
    "    # check whether grid[i][j] is valid in the 3x3 box\n",
    "    # [hint: two nested loops. Which box the number is in?]\n",
    "    # [When you find the box you have to loop for all the elements in the box]\n",
    "    # [that's 3 rows and 3 elements. USE the number 3 to find the box]\n",
    "    # return false if conditions are not met\n",
    "    \n",
    "    # return True if all 3 checks above are passed!\n",
    "    pass # [<- delete this when implementing]\n",
    "\n",
    "# Check whether a solution is valid\n",
    "def isValid(grid):\n",
    "    # [hint: make two nested loops to loop over all elements in the grid]\n",
    "    # [pass each element in the grid to isValidAt function]\n",
    "    # return true or false accordingly\n",
    "    pass # [<- delete this when implementing]\n",
    "\n",
    "\n",
    "\n",
    "def main():\n",
    "    grid = [[9, 6, 3, 1, 7, 4, 2, 5, 8],\n",
    "            [1, 7, 8, 3, 2, 5, 6, 4, 9],\n",
    "            [2, 5, 4, 6, 8, 9, 7, 3, 1],\n",
    "            [8, 2, 1, 4, 3, 7, 5, 9, 6],\n",
    "            [4, 9, 6, 8, 5, 2, 3, 1, 7],\n",
    "            [7, 3, 5, 9, 6, 1, 8, 2, 4],\n",
    "            [5, 8, 9, 7, 1, 3, 4, 6, 2],\n",
    "            [3, 1, 7, 2, 4, 6, 9, 8, 5],\n",
    "            [6, 4, 2, 5, 9, 8, 1, 7, 3]]\n",
    "    \n",
    "    if isValid(grid):\n",
    "        print(\"valid solution!\")\n",
    "    else:\n",
    "        print(\"invalid solution!\")\n",
    "\n",
    "main()"
   ]
  }
 ],
 "metadata": {
  "kernelspec": {
   "display_name": "Python 3",
   "language": "python",
   "name": "python3"
  },
  "language_info": {
   "codemirror_mode": {
    "name": "ipython",
    "version": 3
   },
   "file_extension": ".py",
   "mimetype": "text/x-python",
   "name": "python",
   "nbconvert_exporter": "python",
   "pygments_lexer": "ipython3",
   "version": "3.6.3"
  }
 },
 "nbformat": 4,
 "nbformat_minor": 2
}
