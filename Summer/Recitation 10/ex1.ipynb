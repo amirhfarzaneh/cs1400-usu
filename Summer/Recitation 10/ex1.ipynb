{
 "cells": [
  {
   "cell_type": "markdown",
   "metadata": {},
   "source": [
    "Let's work with insertion sort algorithm: [see how it works here](http://cs.armstrong.edu/liang/animation/web/InsertionSort.html)\n",
    "\n",
    "- 1. We're making a list of 100 random numbers between 0 and 10000.\n",
    "- 2. Then we're going to sort this list using the insertion sort.\n",
    "- 3. Copy and paste the following code in Pycharm and implement the `def insertion_sort(input_list)`:"
   ]
  },
  {
   "cell_type": "code",
   "execution_count": null,
   "metadata": {},
   "outputs": [],
   "source": [
    "import time\n",
    "import random\n",
    "\n",
    "def main():\n",
    "    num_list = []\n",
    "    for i in range(100):\n",
    "        num_list.append(random.randint(0, 10000))\n",
    "\n",
    "    start = time.time()\n",
    "    insertion_sort(num_list)\n",
    "    print(time.time() - start)\n",
    "\n",
    "def insertion_sort(input_list):\n",
    "    # <Fill this in>\n",
    "\n",
    "main()"
   ]
  },
  {
   "cell_type": "markdown",
   "metadata": {},
   "source": [
    "**Now try the same code with 1000 numbers and then 10000 numbers in the list**. How much is the time increasing for different numbers? Is it linear?"
   ]
  },
  {
   "cell_type": "markdown",
   "metadata": {},
   "source": [
    "**Want more challenge?** Now implement the **Selection sort**. [See how it works here](http://cs.armstrong.edu/liang/animation/web/SelectionSortNew.html)"
   ]
  },
  {
   "cell_type": "code",
   "execution_count": null,
   "metadata": {},
   "outputs": [],
   "source": [
    "import time\n",
    "import random\n",
    "\n",
    "def main():\n",
    "    num_list = []\n",
    "    for i in range(100):\n",
    "        num_list.append(random.randint(0, 10000))\n",
    "\n",
    "    start = time.time()\n",
    "    insertion_sort(num_list)\n",
    "    print(time.time() - start)\n",
    "\n",
    "def selection_sort(input_list):\n",
    "    # <Fill this in>\n",
    "\n",
    "main()"
   ]
  }
 ],
 "metadata": {
  "kernelspec": {
   "display_name": "Python 3",
   "language": "python",
   "name": "python3"
  },
  "language_info": {
   "codemirror_mode": {
    "name": "ipython",
    "version": 3
   },
   "file_extension": ".py",
   "mimetype": "text/x-python",
   "name": "python",
   "nbconvert_exporter": "python",
   "pygments_lexer": "ipython3",
   "version": "3.6.5"
  }
 },
 "nbformat": 4,
 "nbformat_minor": 2
}
