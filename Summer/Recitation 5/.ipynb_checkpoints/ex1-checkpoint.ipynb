{
 "cells": [
  {
   "cell_type": "markdown",
   "metadata": {},
   "source": [
    "<img src=\"1.png\">\n",
    "<img src=\"2.png\">"
   ]
  },
  {
   "cell_type": "markdown",
   "metadata": {},
   "source": [
    "Copy and paste the code below in PyCharm and complete it by using proper statements instead of `None`s:"
   ]
  },
  {
   "cell_type": "code",
   "execution_count": null,
   "metadata": {},
   "outputs": [],
   "source": [
    "number_of_primes = 50 # Number of primes to display\n",
    "number_of_primes_per_line = 10 # Display 10 per line\n",
    "count = 0 # Count the number of prime numbers\n",
    "number = 2 # A number to be tested for primeness\n",
    "\n",
    "print(\"The first 50 prime numbers are\")\n",
    "\n",
    "# Repeatedly find prime numbers\n",
    "while None:\n",
    "    # Assume the number is prime\n",
    "    isPrime = True # Is the current number prime?\n",
    "    \n",
    "    # Test if number is prime\n",
    "    divisor = 2\n",
    "    while None:\n",
    "        if None:\n",
    "            # If true, the number is not prime\n",
    "            isPrime = None\n",
    "            None # Exit the for loop\n",
    "        divisor += 1\n",
    "        \n",
    "\n",
    "    # Display the prime number and increase the count\n",
    "    if None:\n",
    "        None # Increase the count\n",
    "        \n",
    "        print(format(number, \"5d\"), end = '')\n",
    "        if count % number_of_primes_per_line == 0:\n",
    "            # Display the number and advance to the new line\n",
    "            print() # Jump to the new line\n",
    "    # Check if the next number is prime\n",
    "    None"
   ]
  },
  {
   "cell_type": "markdown",
   "metadata": {},
   "source": [
    "When you're finised with this do the next exercise [here](https://github.com/amirhfarzaneh/cs1400-usu/blob/master/Summer/Recitation%205/ex2.ipynb)"
   ]
  }
 ],
 "metadata": {
  "kernelspec": {
   "display_name": "Python 3",
   "language": "python",
   "name": "python3"
  },
  "language_info": {
   "codemirror_mode": {
    "name": "ipython",
    "version": 3
   },
   "file_extension": ".py",
   "mimetype": "text/x-python",
   "name": "python",
   "nbconvert_exporter": "python",
   "pygments_lexer": "ipython3",
   "version": "3.6.5"
  }
 },
 "nbformat": 4,
 "nbformat_minor": 2
}
