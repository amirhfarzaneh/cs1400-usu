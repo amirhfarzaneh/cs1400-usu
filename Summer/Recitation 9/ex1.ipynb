{
 "cells": [
  {
   "cell_type": "markdown",
   "metadata": {},
   "source": [
    "I want to be able to run the code below. So create a file called Rational_Main.py abd copy and paste the code below in it."
   ]
  },
  {
   "cell_type": "code",
   "execution_count": null,
   "metadata": {},
   "outputs": [],
   "source": [
    "from Rational_Class import Rational\n",
    "\n",
    "r1 = Rational(4, 2)\n",
    "r2 = Rational(2, 3)\n",
    "\n",
    "print(r1, \"+\", r2, \"=\", r1 + r2)\n",
    "print(r1, \"-\", r2, \"=\", r1 - r2)\n",
    "print(r1, \"*\", r2, \"=\", r1 * r2)\n",
    "print(r1, \"/\", r2, \"=\", r1 / r2)\n",
    "\n",
    "print(r1, \">\", r2, \"=\", r1 > r2)\n",
    "print(r1, \">=\", r2, \"=\", r1 >= r2)\n",
    "print(r1, \"<\", r2, \"=\", r1 < r2)\n",
    "print(r1, \"<=\", r2, \"=\", r1 <= r2)\n",
    "print(r1, \"==\", r2, \"=\", r1 == r2)\n",
    "print(r1, \"!=\", r2, \"=\", r1 != r2)\n",
    "\n",
    "print(\"int(r2) is\", int(r2))\n",
    "print(\"float(r2) is\", float(r2))"
   ]
  },
  {
   "cell_type": "markdown",
   "metadata": {},
   "source": [
    "Create a file called Rational_Class.py and copy and paste the code below in it. Implement the remaining methods so you can run the code above! \n",
    "\n",
    "- [**NOTE1**: remove `pass` statements and replace them with proper statements]\n",
    "- [**NOTE2**: pay attention to how I modified the `__lt__` method and used a new method called `__cmp__`]"
   ]
  },
  {
   "cell_type": "code",
   "execution_count": null,
   "metadata": {},
   "outputs": [],
   "source": [
    "class Rational:\n",
    "    def __init__(self, numerator, denominator):\n",
    "        self.__numerator = numerator\n",
    "        self.__denominator = denominator\n",
    "\n",
    "    def __add__(self, second_rational):\n",
    "        n = (self.__numerator * second_rational.__denominator) + (self.__denominator * second_rational.__numerator)\n",
    "        d = (self.__denominator * second_rational.__denominator)\n",
    "        return Rational(n, d)\n",
    "\n",
    "    def __sub__(self, second_rational):\n",
    "        n = (self.__numerator * second_rational.__denominator) - (self.__denominator * second_rational.__numerator)\n",
    "        d = self.__denominator * second_rational.__denominator\n",
    "        return Rational(n, d)\n",
    "\n",
    "    def __mul__(self, second_rational):\n",
    "        pass\n",
    "\n",
    "    def __truediv__(self, second_rational):\n",
    "        pass\n",
    "\n",
    "    def __float__(self):\n",
    "        pass\n",
    "\n",
    "    def __int__(self):\n",
    "        pass\n",
    "\n",
    "    def __str__(self):\n",
    "        return str(self.__numerator) + \"/\" + str(self.__denominator)\n",
    "\n",
    "    def __lt__(self, second_rational):\n",
    "        return self.__cmp__(second_rational) < 0\n",
    "\n",
    "    def __le__(self, second_rational):\n",
    "        pass\n",
    "\n",
    "    def __gt__(self, second_rational):\n",
    "        pass\n",
    "\n",
    "    def __ge__(self, second_rational):\n",
    "        pass\n",
    "\n",
    "    def __cmp__(self, second_rational):\n",
    "        result = self.__sub__(second_rational)\n",
    "        if result.__numerator > 0:\n",
    "            return 1\n",
    "        elif result.__numerator < 0:\n",
    "            return -1\n",
    "        else:\n",
    "            return 0"
   ]
  },
  {
   "cell_type": "markdown",
   "metadata": {},
   "source": [
    "**CHALLENGE**: go ahead and write a new method called `__getitem__(self, index)` so when I use `r1[0]` in the main file, it gives me the numerator as an integer and when I use `r1[1]` it gives me the denominator as an integer"
   ]
  }
 ],
 "metadata": {
  "kernelspec": {
   "display_name": "Python 3",
   "language": "python",
   "name": "python3"
  },
  "language_info": {
   "codemirror_mode": {
    "name": "ipython",
    "version": 3
   },
   "file_extension": ".py",
   "mimetype": "text/x-python",
   "name": "python",
   "nbconvert_exporter": "python",
   "pygments_lexer": "ipython3",
   "version": "3.6.5"
  }
 },
 "nbformat": 4,
 "nbformat_minor": 2
}
