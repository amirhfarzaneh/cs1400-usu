{
 "cells": [
  {
   "cell_type": "markdown",
   "metadata": {},
   "source": [
    "I want to run the code below:"
   ]
  },
  {
   "cell_type": "code",
   "execution_count": null,
   "metadata": {},
   "outputs": [],
   "source": [
    "import turtle\n",
    "\n",
    "# Draw a line from (-50, -50) to (50, 50)\n",
    "draw_line(-50, -50, 50, 50)\n",
    "\n",
    "# Write text at (-50, -60)\n",
    "write_text(\"Testing useful Turtle functions\", -50, -60)\n",
    "\n",
    "# Draw a point at (0, 0)\n",
    "draw_point(0, 0)\n",
    "\n",
    "# Draw a circle at (0, 0) with radius 80\n",
    "draw_circle(0, 0, 80)\n",
    "\n",
    "# Draw a rectangle at (0, 0) with width 60 and height 40\n",
    "draw_rectangle(0, 0, 60, 40)\n",
    "\n",
    "turtle.hideturtle()\n",
    "turtle.done()"
   ]
  },
  {
   "cell_type": "markdown",
   "metadata": {},
   "source": [
    "but none of the functions have been implemented. Use the the template below in PyCharm and implement all 5 functions:"
   ]
  },
  {
   "cell_type": "code",
   "execution_count": null,
   "metadata": {},
   "outputs": [],
   "source": [
    "import turtle\n",
    "\n",
    "# Draw a line from (x1, y1) to (x2, y2)\n",
    "def draw_line(x1, y1, x2, y2):\n",
    "    \n",
    "\n",
    "# Write a string s at the specified location (x, y)\n",
    "def write_text(s, x, y):\n",
    "    \n",
    "\n",
    "# Draw a point at the specified location (x, y)\n",
    "def draw_point(______):\n",
    "\n",
    "\n",
    "# Draw a circle centered at (x, y) with the specified radius\n",
    "# default values are: x = 0, y = 0, radius = 10\n",
    "def draw_circle(______):\n",
    "\n",
    "\n",
    "\n",
    "# Draw a rectangle at (x, y) with the specified width and height\n",
    "# default values are: x = 0, y = 0, width = 10, height = 10\n",
    "def draw_rectangle(______):\n",
    "\n",
    "\n",
    "def main():\n",
    "\n",
    "    draw_line(-50, -50, 50, 50)\n",
    "    write_text(\"Testing useful Turtle functions\", -50, -60)\n",
    "    draw_point(0, 0)\n",
    "    draw_circle(0, 0, 80)\n",
    "    draw_rectangle(0, 0, 60, 40)\n",
    "\n",
    "    turtle.hideturtle()\n",
    "    turtle.done()\n",
    "\n",
    "# calling main function\n",
    "main()\n",
    "    "
   ]
  }
 ],
 "metadata": {
  "kernelspec": {
   "display_name": "Python 3",
   "language": "python",
   "name": "python3"
  },
  "language_info": {
   "codemirror_mode": {
    "name": "ipython",
    "version": 3
   },
   "file_extension": ".py",
   "mimetype": "text/x-python",
   "name": "python",
   "nbconvert_exporter": "python",
   "pygments_lexer": "ipython3",
   "version": "3.6.5"
  }
 },
 "nbformat": 4,
 "nbformat_minor": 2
}
