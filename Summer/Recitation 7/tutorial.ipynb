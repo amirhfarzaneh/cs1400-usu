{
 "cells": [
  {
   "cell_type": "markdown",
   "metadata": {},
   "source": [
    "# Classes and Objects\n",
    "\n",
    "<img src=\"sample_faces.png\">"
   ]
  },
  {
   "cell_type": "markdown",
   "metadata": {},
   "source": [
    "## Naive code:"
   ]
  },
  {
   "cell_type": "code",
   "execution_count": null,
   "metadata": {
    "collapsed": true
   },
   "outputs": [],
   "source": [
    "person1_name = 'Jack'\n",
    "person1_age = 26\n",
    "person1_emotion = 'happy'\n",
    "person1_glasses = True\n",
    "person1_hat = False\n",
    "person1_celebrity = True\n",
    "\n",
    "\n",
    "person2_name = 'Jane'\n",
    "person2_age = 28\n",
    "person2_emotion = 'angry'\n",
    "person2_glasses = True\n",
    "person2_hat = True\n",
    "person2_celebrity = False\n",
    "\n",
    "# ..."
   ]
  },
  {
   "cell_type": "markdown",
   "metadata": {},
   "source": [
    "## Defining a class in Python"
   ]
  },
  {
   "cell_type": "code",
   "execution_count": 4,
   "metadata": {
    "collapsed": true
   },
   "outputs": [],
   "source": [
    "class Person:\n",
    "    pass"
   ]
  },
  {
   "cell_type": "code",
   "execution_count": 5,
   "metadata": {},
   "outputs": [
    {
     "data": {
      "text/plain": [
       "False"
      ]
     },
     "execution_count": 5,
     "metadata": {},
     "output_type": "execute_result"
    }
   ],
   "source": [
    "a = Person()\n",
    "b = Person()\n",
    "a == b"
   ]
  },
  {
   "cell_type": "markdown",
   "metadata": {},
   "source": [
    "## Instance attributes"
   ]
  },
  {
   "cell_type": "code",
   "execution_count": 6,
   "metadata": {
    "collapsed": true
   },
   "outputs": [],
   "source": [
    "class Person:\n",
    "    \n",
    "    # Initializer / Instance Attributes\n",
    "    def __init__(self, name, age, emotion, glasses):\n",
    "        self.name = name\n",
    "        self.age = age\n",
    "        self.emotion = emotion\n",
    "        self.glasses = glasses"
   ]
  },
  {
   "cell_type": "markdown",
   "metadata": {},
   "source": [
    "#### Note: you'll never call the `__init__()` method. When you create instances of the `Person` class, it gets called automatically"
   ]
  },
  {
   "cell_type": "markdown",
   "metadata": {},
   "source": [
    "## Class attributes"
   ]
  },
  {
   "cell_type": "code",
   "execution_count": 12,
   "metadata": {
    "collapsed": true
   },
   "outputs": [],
   "source": [
    "class Person:\n",
    "    \n",
    "    # Class Attribute\n",
    "    species = 'Homo sapien'\n",
    "    \n",
    "    # Initializer / Instance Attributes\n",
    "    def __init__(self, name, age, emotion, glasses):\n",
    "        self.name = name\n",
    "        self.age = age\n",
    "        self.emotion = emotion\n",
    "        self.glasses = glasses"
   ]
  },
  {
   "cell_type": "markdown",
   "metadata": {},
   "source": [
    "#### Now let's create some people"
   ]
  },
  {
   "cell_type": "code",
   "execution_count": 13,
   "metadata": {},
   "outputs": [
    {
     "name": "stdout",
     "output_type": "stream",
     "text": [
      "Matt is 23 and is happy.\n",
      "Julie does not wear glasses\n",
      "Homo sapien\n"
     ]
    }
   ],
   "source": [
    "matt = Person('Matt', 23, 'happy', True)\n",
    "julie = Person('Julie', 24, 'angry', False)\n",
    "\n",
    "print(\"{} is {} and is {}.\".format(matt.name, \n",
    "                                   matt.age, matt.emotion))\n",
    "\n",
    "# Does Julie have glasses?\n",
    "if julie.glasses == True:\n",
    "    print('Julie wears glasses')\n",
    "else:\n",
    "    print('Julie does not wear glasses')\n",
    "\n",
    "print(julie.species)"
   ]
  },
  {
   "cell_type": "markdown",
   "metadata": {},
   "source": [
    "## Instance Methods"
   ]
  },
  {
   "cell_type": "code",
   "execution_count": 17,
   "metadata": {},
   "outputs": [
    {
     "name": "stdout",
     "output_type": "stream",
     "text": [
      "Sarah is 28 and is frustrated.\n",
      "Sarah says OOP is easier than I thought.\n",
      "Sarah is 28 and is happy.\n",
      "\n",
      "\n",
      "\n",
      "Sarah is 28 and is angry.\n"
     ]
    }
   ],
   "source": [
    "class Person:\n",
    "    \n",
    "    # Class Attribute\n",
    "    species = 'Homo sapien'\n",
    "    \n",
    "    # Initializer / Instance Attributes\n",
    "    def __init__(self, name, age, emotion, glasses):\n",
    "        self.name = name\n",
    "        self.age = age\n",
    "        self.emotion = emotion\n",
    "        self.glasses = glasses\n",
    "        \n",
    "    # instance method\n",
    "    def description(self):\n",
    "        print(\"{} is {} and is {}.\".format(self.name, self.age, self.emotion))\n",
    "        \n",
    "    def make_happy(self):\n",
    "        self.emotion = 'happy'\n",
    "    \n",
    "    def speak(self, sentence):\n",
    "        print(self.name +\" says \" + sentence + \".\")\n",
    "        \n",
    "\n",
    "sarah = Person('Sarah', 28, 'frustrated', False)\n",
    "\n",
    "# The right way\n",
    "sarah.description()\n",
    "sarah.speak('OOP is easier than I thought')\n",
    "sarah.make_happy()\n",
    "sarah.description()\n",
    "\n",
    "# The not so right way\n",
    "print('\\n\\n')\n",
    "sarah.emotion = 'angry'\n",
    "sarah.description()"
   ]
  },
  {
   "cell_type": "markdown",
   "metadata": {},
   "source": [
    "### get() and set() methods"
   ]
  },
  {
   "cell_type": "code",
   "execution_count": 20,
   "metadata": {},
   "outputs": [
    {
     "name": "stdout",
     "output_type": "stream",
     "text": [
      "Amir is 42 and is happy.\n",
      "not a valid age!\n",
      "Amir is 28 and is happy.\n",
      "happy\n",
      "tired\n",
      "Amir is 28 and is tired.\n"
     ]
    }
   ],
   "source": [
    "class Person:\n",
    "    \n",
    "    # Class Attribute\n",
    "    species = 'Homo sapien'\n",
    "    \n",
    "    # Initializer / Instance Attributes\n",
    "    def __init__(self, name, age, emotion, glasses):\n",
    "        self.name = name\n",
    "        self.age = age\n",
    "        self.emotion = emotion\n",
    "        self.glasses = glasses\n",
    "        \n",
    "    # instance method\n",
    "    def description(self):\n",
    "        print(\"{} is {} and is {}.\".format(self.name, self.age, self.emotion))\n",
    "        \n",
    "    def set_emotion(self, new_emotion):\n",
    "        self.emotion = new_emotion\n",
    "    def get_emotion(self):\n",
    "        return self.emotion\n",
    "    \n",
    "    def set_age(self, new_age):\n",
    "        if new_age < 0 or new_age > 500:\n",
    "            print('not a valid age!')\n",
    "        else:\n",
    "            self.age = new_age\n",
    "        \n",
    "\n",
    "amir = Person('Amir', 42, 'happy', True)\n",
    "\n",
    "# The right way\n",
    "amir.description()\n",
    "amir.set_age(567)\n",
    "amir.set_age(28)\n",
    "amir.description()\n",
    "print(amir.get_emotion())\n",
    "amir.set_emotion('tired')\n",
    "print(amir.get_emotion())\n",
    "amir.description()"
   ]
  },
  {
   "cell_type": "markdown",
   "metadata": {},
   "source": [
    "## Encapsulation"
   ]
  },
  {
   "cell_type": "code",
   "execution_count": 22,
   "metadata": {},
   "outputs": [
    {
     "name": "stdout",
     "output_type": "stream",
     "text": [
      "Amir is 42 and is happy.\n",
      "not a valid age!\n",
      "Amir is 28 and is happy.\n",
      "happy\n",
      "tired\n",
      "Amir is 28 and is tired.\n"
     ]
    }
   ],
   "source": [
    "from myclasses import Person\n",
    "\n",
    "amir = Person('Amir', 42, 'happy', True)\n",
    "\n",
    "# The right way\n",
    "amir.description()\n",
    "amir.set_age(567)\n",
    "amir.set_age(28)\n",
    "amir.description()\n",
    "print(amir.get_emotion())\n",
    "amir.set_emotion('tired')\n",
    "print(amir.get_emotion())\n",
    "amir.description()\n"
   ]
  },
  {
   "cell_type": "markdown",
   "metadata": {
    "collapsed": true
   },
   "source": [
    "# Exercise:"
   ]
  },
  {
   "cell_type": "markdown",
   "metadata": {},
   "source": [
    "create a `Car` class. \n",
    "1. Use your creativity to create a few class attributes and some instance attributes! \n",
    "2. for your instance attributes create `set` and `get` methods.\n",
    "3. Create a description method to print out a full description of the car\n",
    "\n",
    "In your main file:\n",
    "1. Create three instances of your Car class: `car1`, `car2`, and `car3`!\n",
    "2. Write a function called `report_priciest()` to get three instances and describe the car with the maximum price!\n",
    "\n",
    "Note1: price is an instance attribute for the class `Car`!\n",
    "Note2: `report_priciest()` is just a regular function in your main file not a class method in your definition of the class!"
   ]
  }
 ],
 "metadata": {
  "kernelspec": {
   "display_name": "Python 3",
   "language": "python",
   "name": "python3"
  },
  "language_info": {
   "codemirror_mode": {
    "name": "ipython",
    "version": 3
   },
   "file_extension": ".py",
   "mimetype": "text/x-python",
   "name": "python",
   "nbconvert_exporter": "python",
   "pygments_lexer": "ipython3",
   "version": "3.6.5"
  }
 },
 "nbformat": 4,
 "nbformat_minor": 2
}
