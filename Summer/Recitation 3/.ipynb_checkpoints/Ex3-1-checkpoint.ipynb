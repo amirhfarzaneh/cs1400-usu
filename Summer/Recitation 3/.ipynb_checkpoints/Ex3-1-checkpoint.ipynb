{
 "cells": [
  {
   "cell_type": "markdown",
   "metadata": {},
   "source": [
    "What is the output of the following statements! Guess, then try in Pycharm!"
   ]
  },
  {
   "cell_type": "code",
   "execution_count": null,
   "metadata": {},
   "outputs": [],
   "source": [
    "print(format(57.467657, \"9.3f\"))\n",
    "print(format(12345678.923, \"9.1f\"))\n",
    "print(format(57.4, \".2f\"))\n",
    "print(format(57.4, \"10.2f\"))"
   ]
  },
  {
   "cell_type": "code",
   "execution_count": null,
   "metadata": {},
   "outputs": [],
   "source": [
    "print(format(57.467657, \"9.3e\"))\n",
    "print(format(12345678.923, \"9.1e\"))\n",
    "print(format(57.4, \".2e\"))\n",
    "print(format(57.4, \"10.2e\"))"
   ]
  },
  {
   "cell_type": "code",
   "execution_count": null,
   "metadata": {},
   "outputs": [],
   "source": [
    "print(format(5789.467657, \"9.3f\"))\n",
    "print(format(5789.467657, \"<9.3f\"))\n",
    "print(format(5789.4, \".2f\"))\n",
    "print(format(5789.4, \"<.2f\"))\n",
    "print(format(5789.4, \">9.2f\"))"
   ]
  },
  {
   "cell_type": "code",
   "execution_count": null,
   "metadata": {},
   "outputs": [],
   "source": [
    "print(format(0.457467657, \"9.3%\"))\n",
    "print(format(0.457467657, \"<9.3%\"))"
   ]
  },
  {
   "cell_type": "code",
   "execution_count": null,
   "metadata": {},
   "outputs": [],
   "source": [
    "print(format(45, \"5d\"))\n",
    "print(format(45, \"<5d\"))\n",
    "print(format(45, \"5x\"))\n",
    "print(format(45, \"<5x\"))"
   ]
  },
  {
   "cell_type": "code",
   "execution_count": null,
   "metadata": {},
   "outputs": [],
   "source": [
    "print(format(\"Programming is fun\", \"25s\"))\n",
    "print(format(\"Programming is fun\", \"<25s\"))\n",
    "print(format(\"Programming is fun\", \">25s\"))"
   ]
  },
  {
   "cell_type": "markdown",
   "metadata": {},
   "source": [
    "So if I run the code below:"
   ]
  },
  {
   "cell_type": "code",
   "execution_count": 1,
   "metadata": {},
   "outputs": [
    {
     "name": "stdout",
     "output_type": "stream",
     "text": [
      "   57.468\n",
      "12345678.9\n",
      "57.40\n",
      "     57.40\n"
     ]
    }
   ],
   "source": [
    "print(format(57.467657, \"9.3f\"))\n",
    "print(format(12345678.923, \"9.1f\"))\n",
    "print(format(57.4, \".2f\"))\n",
    "print(format(57.4, \"10.2f\"))"
   ]
  },
  {
   "cell_type": "markdown",
   "metadata": {},
   "source": [
    "How do I use `print()` only once to get the same output? "
   ]
  },
  {
   "cell_type": "markdown",
   "metadata": {},
   "source": [
    "When you're finished! Go [here]() for the second exercise"
   ]
  },
  {
   "cell_type": "code",
   "execution_count": null,
   "metadata": {},
   "outputs": [],
   "source": []
  }
 ],
 "metadata": {
  "kernelspec": {
   "display_name": "Python 3",
   "language": "python",
   "name": "python3"
  },
  "language_info": {
   "codemirror_mode": {
    "name": "ipython",
    "version": 3
   },
   "file_extension": ".py",
   "mimetype": "text/x-python",
   "name": "python",
   "nbconvert_exporter": "python",
   "pygments_lexer": "ipython3",
   "version": "3.6.5"
  }
 },
 "nbformat": 4,
 "nbformat_minor": 2
}
