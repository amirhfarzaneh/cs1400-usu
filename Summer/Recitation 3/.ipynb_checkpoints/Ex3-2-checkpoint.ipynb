{
 "cells": [
  {
   "cell_type": "markdown",
   "metadata": {},
   "source": [
    "Suppose you\n",
    "want to develop a program that classifies a given amount of money into smaller monetary\n",
    "units. The program lets the user enter an amount as a floating-point value representing a total\n",
    "in dollars and cents, and then outputs a report listing the monetary equivalent in dollars, quar-\n",
    "ters, dimes, nickels, and pennies, as shown in the sample run.\n",
    "<img src=\"1.png\">\n",
    "Your program should report the maximum number of dollars, then the number of quarters,\n",
    "dimes, nickels, and pennies, in this order, to result in the minimum number of coins."
   ]
  },
  {
   "cell_type": "code",
   "execution_count": null,
   "metadata": {},
   "outputs": [],
   "source": []
  }
 ],
 "metadata": {
  "kernelspec": {
   "display_name": "Python 3",
   "language": "python",
   "name": "python3"
  },
  "language_info": {
   "codemirror_mode": {
    "name": "ipython",
    "version": 3
   },
   "file_extension": ".py",
   "mimetype": "text/x-python",
   "name": "python",
   "nbconvert_exporter": "python",
   "pygments_lexer": "ipython3",
   "version": "3.6.5"
  }
 },
 "nbformat": 4,
 "nbformat_minor": 2
}
