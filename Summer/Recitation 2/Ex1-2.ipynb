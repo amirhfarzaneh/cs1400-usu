{
 "cells": [
  {
   "cell_type": "markdown",
   "metadata": {},
   "source": [
    "Given two points, the formula for computing the distance is:\n",
    "<img src=\"2.png\">\n",
    "You can use `a ** 0.5` to compute square root of a. Use the template below and copy and paste it in PyCharm. Ask user to enter two points and compute the distance between them. Show the result to user"
   ]
  },
  {
   "cell_type": "code",
   "execution_count": null,
   "metadata": {},
   "outputs": [],
   "source": [
    "# Enter the first point with two float values (~ 1 line)\n",
    "x1, y1 = \n",
    "\n",
    "# Enter the second point with two float values (~ 1 line)\n",
    "x2, y2 = \n",
    "\n",
    "# Compute the distance using the formula (~ 1 line)\n",
    "distance = \n",
    "\n",
    "# Show the results (~ 1 line)\n"
   ]
  },
  {
   "cell_type": "markdown",
   "metadata": {},
   "source": [
    "Here is a sample run:\n",
    "<img src=\"3.png\">"
   ]
  }
 ],
 "metadata": {
  "kernelspec": {
   "display_name": "Python 3",
   "language": "python",
   "name": "python3"
  },
  "language_info": {
   "codemirror_mode": {
    "name": "ipython",
    "version": 3
   },
   "file_extension": ".py",
   "mimetype": "text/x-python",
   "name": "python",
   "nbconvert_exporter": "python",
   "pygments_lexer": "ipython3",
   "version": "3.6.5"
  }
 },
 "nbformat": 4,
 "nbformat_minor": 2
}
