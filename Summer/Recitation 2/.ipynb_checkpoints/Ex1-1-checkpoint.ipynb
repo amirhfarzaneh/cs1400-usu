{
 "cells": [
  {
   "cell_type": "markdown",
   "metadata": {},
   "source": [
    "The code you just saw gives a program gives a program that displays the current time in GMT. Revise the program so that it prompts the user to enter the time zone in hours away from (offset to) GMT and displays the time in the specified time zone. Here is a sample run:\n",
    "<img src=\"1.png\">\n",
    "Now copy and paste the code below in PyCharm and revise it as I asked:"
   ]
  },
  {
   "cell_type": "code",
   "execution_count": null,
   "metadata": {},
   "outputs": [],
   "source": [
    "import time\n",
    "\n",
    "current_time = time.time() # Get current time currentTime\n",
    "\n",
    "# Obtain the total seconds since midnight\n",
    "total_seconds = int(current_time)\n",
    "\n",
    "# Get the current second\n",
    "current_second = total_seconds % 60\n",
    "\n",
    "# Obtain the total minutes\n",
    "total_minutes = total_seconds // 60\n",
    "\n",
    "# Compute the current minute in the hour\n",
    "current_minute = total_minutes % 60\n",
    "\n",
    "# Obtain the total hours\n",
    "total_hours = total_minutes // 60\n",
    "\n",
    "# Compute the current hour\n",
    "current_hour = total_hours % 24\n",
    "\n",
    "# Display results\n",
    "print(\"Current time is\", current_hour, \":\",\n",
    "current_minute, \":\", current_second, \"GMT\")"
   ]
  },
  {
   "cell_type": "markdown",
   "metadata": {},
   "source": [
    "When you're finished go [here](https://github.com/amirhfarzaneh/cs1400-usu/blob/master/Summer/Recitation%202/Ex1-2.ipynb) for the second exercise!"
   ]
  }
 ],
 "metadata": {
  "kernelspec": {
   "display_name": "Python 3",
   "language": "python",
   "name": "python3"
  },
  "language_info": {
   "codemirror_mode": {
    "name": "ipython",
    "version": 3
   },
   "file_extension": ".py",
   "mimetype": "text/x-python",
   "name": "python",
   "nbconvert_exporter": "python",
   "pygments_lexer": "ipython3",
   "version": "3.6.5"
  }
 },
 "nbformat": 4,
 "nbformat_minor": 2
}
