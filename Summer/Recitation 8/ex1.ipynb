{
 "cells": [
  {
   "cell_type": "markdown",
   "metadata": {},
   "source": [
    "<img src=\"1.png\">"
   ]
  },
  {
   "cell_type": "markdown",
   "metadata": {},
   "source": [
    "Let's write a code to check if the words entered by the user are Palindromes!\n",
    "\n",
    "1. Create a class called `Palindrome`\n",
    "2. It should have a `set`, `get`, and `is_palindrome` method\n",
    "\n",
    "In a separate `main.py` file:\n",
    "\n",
    "1. create **ONLY ONE** instance of the class Palindrome\n",
    "2. Ask user in a loop to enter a word, then use the `is_palindrome` method from the class Palindrome to check if the word entered by the user is a palindrome.\n",
    "3. Prompt the user if he needs to check another word.\n",
    "\n",
    "[**NOTE: you only use the one instance you created at step 1 over and over in your loop**]\n",
    "\n"
   ]
  }
 ],
 "metadata": {
  "kernelspec": {
   "display_name": "Python 3",
   "language": "python",
   "name": "python3"
  },
  "language_info": {
   "codemirror_mode": {
    "name": "ipython",
    "version": 3
   },
   "file_extension": ".py",
   "mimetype": "text/x-python",
   "name": "python",
   "nbconvert_exporter": "python",
   "pygments_lexer": "ipython3",
   "version": "3.6.5"
  }
 },
 "nbformat": 4,
 "nbformat_minor": 2
}
