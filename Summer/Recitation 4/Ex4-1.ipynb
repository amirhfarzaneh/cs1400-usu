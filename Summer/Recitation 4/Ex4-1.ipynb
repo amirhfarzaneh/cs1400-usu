{
 "cells": [
  {
   "cell_type": "markdown",
   "metadata": {},
   "source": [
    "Suppose you\n",
    "want to develop a program that classifies a given amount of money into smaller monetary\n",
    "units. The program lets the user enter an amount as a floating-point value representing a total\n",
    "in dollars and cents, and then outputs a report listing the monetary equivalent in dollars, quar-\n",
    "ters, dimes, nickels, and pennies, as shown in the sample run.\n",
    "<img src=\"1.png\">\n",
    "Your program should report the maximum number of dollars, then the number of quarters,\n",
    "dimes, nickels, and pennies, in this order, to result in the minimum number of coins. Copy and paste the code below in PyCharm and complete the code:"
   ]
  },
  {
   "cell_type": "code",
   "execution_count": null,
   "metadata": {},
   "outputs": [],
   "source": [
    "# Receive the amoount\n",
    "amount = eval(input(\"Enter an amount, for example, 11.56:\"))\n",
    "\n",
    "# Write code here (~ 10 lines)\n",
    "\n",
    "\n",
    "# I do the printig for you\n",
    "print(\"Your amount\", amount, \"consists of\\n\",\n",
    "      \"\\t\", number_of_dollars, \"dollars\\n\",\n",
    "      \"\\t\", number_of_quarters, \"quarters\\n\",\n",
    "      \"\\t\", number_of_dimes, \"dimes\\n\",\n",
    "      \"\\t\", number_of_nickles, \"nickels\\n\",\n",
    "      \"\\t\", number_of_pennies, \"pennies\")"
   ]
  }
 ],
 "metadata": {
  "kernelspec": {
   "display_name": "Python 3",
   "language": "python",
   "name": "python3"
  },
  "language_info": {
   "codemirror_mode": {
    "name": "ipython",
    "version": 3
   },
   "file_extension": ".py",
   "mimetype": "text/x-python",
   "name": "python",
   "nbconvert_exporter": "python",
   "pygments_lexer": "ipython3",
   "version": "3.6.5"
  }
 },
 "nbformat": 4,
 "nbformat_minor": 2
}
