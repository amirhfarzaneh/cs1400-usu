{
 "cells": [
  {
   "cell_type": "code",
   "execution_count": 16,
   "metadata": {},
   "outputs": [
    {
     "name": "stdout",
     "output_type": "stream",
     "text": [
      "You rolled 2 + 3 = 5\n",
      "point is 5\n",
      "You rolled 1 + 2 = 3\n",
      "You rolled 1 + 1 = 2\n",
      "You rolled 2 + 2 = 4\n",
      "You rolled 5 + 6 = 11\n",
      "You rolled 1 + 7 = 8\n",
      "You rolled 5 + 4 = 9\n",
      "You rolled 5 + 5 = 10\n",
      "You rolled 7 + 4 = 11\n",
      "You rolled 7 + 3 = 10\n",
      "You rolled 4 + 5 = 9\n",
      "You rolled 2 + 6 = 8\n",
      "You rolled 7 + 2 = 9\n",
      "You rolled 5 + 2 = 7\n",
      "You lose\n"
     ]
    }
   ],
   "source": [
    "import random\n",
    "\n",
    "def roll_dice():\n",
    "    dice1 = random.randint(1, 7)\n",
    "    dice2 = random.randint(1, 7)\n",
    "    sum = dice1 + dice2\n",
    "    print(\"You rolled\", str(dice1), \"+\", str(dice2), \"=\", str(sum))\n",
    "    return sum\n",
    "\n",
    "def game_status(sum):\n",
    "    if sum == 7 or sum == 11:\n",
    "        return 'WON'\n",
    "    elif sum == 2 or sum == 3 or sum == 12:\n",
    "        return 'LOST'\n",
    "    else:\n",
    "        my_point = sum\n",
    "        print(\"point is\", my_point)\n",
    "        return 'CONTINUE'\n",
    "\n",
    "first_sum = roll_dice()\n",
    "gamestat = game_status(first_sum)\n",
    "\n",
    "while gamestat == 'CONTINUE':\n",
    "    sum = roll_dice()\n",
    "    if sum == first_sum:\n",
    "        gamestat = 'WON'\n",
    "    elif sum == 7:\n",
    "        gamestat = 'LOST'\n",
    "    first_sum = sum\n",
    "\n",
    "if gamestat == 'WON':\n",
    "    print('You win')\n",
    "else:\n",
    "    print('You lose')"
   ]
  }
 ],
 "metadata": {
  "kernelspec": {
   "display_name": "Python 3",
   "language": "python",
   "name": "python3"
  },
  "language_info": {
   "codemirror_mode": {
    "name": "ipython",
    "version": 3
   },
   "file_extension": ".py",
   "mimetype": "text/x-python",
   "name": "python",
   "nbconvert_exporter": "python",
   "pygments_lexer": "ipython3",
   "version": "3.6.3"
  }
 },
 "nbformat": 4,
 "nbformat_minor": 2
}
